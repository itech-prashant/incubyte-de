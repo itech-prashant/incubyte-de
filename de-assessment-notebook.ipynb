{
 "cells": [
  {
   "cell_type": "code",
   "execution_count": 1,
   "id": "77e426f9",
   "metadata": {},
   "outputs": [],
   "source": [
    "# setup spark session\n",
    "\n",
    "import findspark\n",
    "findspark.init()\n",
    "from pyspark.sql import SparkSession\n",
    "spark = SparkSession.builder.getOrCreate()\n",
    "import pandas as pd"
   ]
  },
  {
   "cell_type": "code",
   "execution_count": 2,
   "id": "defb8a0e",
   "metadata": {},
   "outputs": [],
   "source": [
    "# Import necessary PySpark modules required for EDA\n",
    "\n",
    "from pyspark.sql import SQLContext\n",
    "from pyspark.sql import functions\n",
    "from pyspark.sql.functions import *\n",
    "from pyspark.sql.types import *"
   ]
  },
  {
   "cell_type": "code",
   "execution_count": 3,
   "id": "21701a73",
   "metadata": {},
   "outputs": [
    {
     "name": "stderr",
     "output_type": "stream",
     "text": [
      "C:\\spark\\spark-3.3.0-bin-hadoop3\\python\\pyspark\\sql\\context.py:112: FutureWarning: Deprecated in 3.0.0. Use SparkSession.builder.getOrCreate() instead.\n",
      "  warnings.warn(\n"
     ]
    }
   ],
   "source": [
    "sc = SQLContext(spark)\n",
    "\n",
    "# The keyword “sc” denotes SparkContext. \n",
    "# SparkContext represents a connection to a Spark Cluster and is considered as a main entry point for Spark functionalities."
   ]
  },
  {
   "cell_type": "code",
   "execution_count": 4,
   "id": "fb556cf5",
   "metadata": {},
   "outputs": [],
   "source": [
    "## Australia"
   ]
  },
  {
   "cell_type": "code",
   "execution_count": 5,
   "id": "ed735d67",
   "metadata": {},
   "outputs": [],
   "source": [
    "df_AUS = pd.read_excel('AUS.xlsx')"
   ]
  },
  {
   "cell_type": "code",
   "execution_count": 6,
   "id": "49296225",
   "metadata": {},
   "outputs": [
    {
     "name": "stdout",
     "output_type": "stream",
     "text": [
      "<class 'pandas.core.frame.DataFrame'>\n",
      "RangeIndex: 3 entries, 0 to 2\n",
      "Data columns (total 5 columns):\n",
      " #   Column               Non-Null Count  Dtype         \n",
      "---  ------               --------------  -----         \n",
      " 0   Unique ID            3 non-null      int64         \n",
      " 1   Patient Name         3 non-null      object        \n",
      " 2   Vaccine Type         3 non-null      object        \n",
      " 3   Date of Birth        2 non-null      datetime64[ns]\n",
      " 4   Date of Vaccination  3 non-null      datetime64[ns]\n",
      "dtypes: datetime64[ns](2), int64(1), object(2)\n",
      "memory usage: 248.0+ bytes\n"
     ]
    }
   ],
   "source": [
    "df_AUS.info()"
   ]
  },
  {
   "cell_type": "code",
   "execution_count": 7,
   "id": "28bb4143",
   "metadata": {
    "scrolled": true
   },
   "outputs": [
    {
     "data": {
      "text/plain": [
       "(3, 5)"
      ]
     },
     "execution_count": 7,
     "metadata": {},
     "output_type": "execute_result"
    }
   ],
   "source": [
    "df_AUS.shape"
   ]
  },
  {
   "cell_type": "code",
   "execution_count": 8,
   "id": "8c202b66",
   "metadata": {},
   "outputs": [
    {
     "name": "stdout",
     "output_type": "stream",
     "text": [
      "   Unique ID Patient Name Vaccine Type Date of Birth Date of Vaccination\n",
      "0          1         Mike          LMN           NaT          2022-05-11\n",
      "1          2    Jonnathan          XYZ    1997-12-13          2021-12-13\n",
      "2          3     Cristina          ABC    1998-03-12          2022-03-12\n"
     ]
    }
   ],
   "source": [
    "print(df_AUS)"
   ]
  },
  {
   "cell_type": "code",
   "execution_count": 9,
   "id": "88de45b6",
   "metadata": {},
   "outputs": [],
   "source": [
    "mySchema1 = StructType([ StructField(\"Unique ID\", IntegerType(), True)\\\n",
    "                       ,StructField(\"Patient Name\", StringType(), True)\\\n",
    "                       ,StructField(\"Vaccine Type\", StringType(), True)\\\n",
    "                       ,StructField(\"Date of Birth\", DateType(), True)\\\n",
    "                       ,StructField(\"Date of Vaccination\", DateType(), True)])"
   ]
  },
  {
   "cell_type": "code",
   "execution_count": 10,
   "id": "8bfb6481",
   "metadata": {},
   "outputs": [],
   "source": [
    "sdf_AUS = spark.createDataFrame(df_AUS,schema=mySchema1) # create spark dataframe from pandas dataframe"
   ]
  },
  {
   "cell_type": "code",
   "execution_count": 11,
   "id": "2915953d",
   "metadata": {},
   "outputs": [
    {
     "name": "stdout",
     "output_type": "stream",
     "text": [
      "root\n",
      " |-- Unique ID: integer (nullable = true)\n",
      " |-- Patient Name: string (nullable = true)\n",
      " |-- Vaccine Type: string (nullable = true)\n",
      " |-- Date of Birth: date (nullable = true)\n",
      " |-- Date of Vaccination: date (nullable = true)\n",
      " |-- CountryName: string (nullable = false)\n",
      "\n"
     ]
    }
   ],
   "source": [
    "sdf_AUS = sdf_AUS.withColumn(\"CountryName\", lit(\"Australia\")) # add countryname column\n",
    "sdf_AUS.printSchema()"
   ]
  },
  {
   "cell_type": "code",
   "execution_count": 12,
   "id": "1bd06edf",
   "metadata": {},
   "outputs": [
    {
     "data": {
      "text/plain": [
       "3"
      ]
     },
     "execution_count": 12,
     "metadata": {},
     "output_type": "execute_result"
    }
   ],
   "source": [
    "sdf_AUS.count() # row count"
   ]
  },
  {
   "cell_type": "code",
   "execution_count": 13,
   "id": "674cba5b",
   "metadata": {},
   "outputs": [
    {
     "name": "stdout",
     "output_type": "stream",
     "text": [
      "+---------+------------+------------+-------------+-------------------+-----------+\n",
      "|Unique ID|Patient Name|Vaccine Type|Date of Birth|Date of Vaccination|CountryName|\n",
      "+---------+------------+------------+-------------+-------------------+-----------+\n",
      "|        0|           0|           0|            1|                  0|          0|\n",
      "+---------+------------+------------+-------------+-------------------+-----------+\n",
      "\n"
     ]
    }
   ],
   "source": [
    "sdf_AUS.select([count(when(col(c).isNull(), c)).alias(c) for c in sdf_AUS.columns]).show()\n",
    "\n",
    "# check for the existence of null value for every columns and count its frequency"
   ]
  },
  {
   "cell_type": "code",
   "execution_count": 14,
   "id": "f315987c",
   "metadata": {},
   "outputs": [],
   "source": [
    "sdf_AUS = sdf_AUS.withColumnRenamed(\"Unique ID\",\"ID\") \\\n",
    ".withColumnRenamed(\"Patient Name\",\"Name\") \\\n",
    ".withColumnRenamed(\"Vaccine Type\",\"VaccinationType\") \\\n",
    ".withColumnRenamed(\"Date of Birth\",\"DOB\") \\\n",
    ".withColumnRenamed(\"Date of Vaccination\",\"VaccinationDate\")\n",
    "\n",
    "# rename similar column to create single source of truth later on"
   ]
  },
  {
   "cell_type": "code",
   "execution_count": 15,
   "id": "9af79042",
   "metadata": {},
   "outputs": [
    {
     "name": "stdout",
     "output_type": "stream",
     "text": [
      "+---+---------+---------------+----------+---------------+-----------+\n",
      "| ID|     Name|VaccinationType|       DOB|VaccinationDate|CountryName|\n",
      "+---+---------+---------------+----------+---------------+-----------+\n",
      "|  1|     Mike|            LMN|      null|     2022-05-11|  Australia|\n",
      "|  2|Jonnathan|            XYZ|1997-12-13|     2021-12-13|  Australia|\n",
      "|  3| Cristina|            ABC|1998-03-12|     2022-03-12|  Australia|\n",
      "+---+---------+---------------+----------+---------------+-----------+\n",
      "\n"
     ]
    }
   ],
   "source": [
    "sdf_AUS.show()"
   ]
  },
  {
   "cell_type": "code",
   "execution_count": 16,
   "id": "d797ca0c",
   "metadata": {},
   "outputs": [],
   "source": [
    "## INDIA"
   ]
  },
  {
   "cell_type": "code",
   "execution_count": 17,
   "id": "f1a55df0",
   "metadata": {},
   "outputs": [],
   "source": [
    "sdf_IND = sc.read.csv(\"IND.csv\" ,header=True)"
   ]
  },
  {
   "cell_type": "code",
   "execution_count": 18,
   "id": "c711fe47",
   "metadata": {},
   "outputs": [
    {
     "data": {
      "text/plain": [
       "3"
      ]
     },
     "execution_count": 18,
     "metadata": {},
     "output_type": "execute_result"
    }
   ],
   "source": [
    "sdf_IND.count()"
   ]
  },
  {
   "cell_type": "code",
   "execution_count": 19,
   "id": "e29d4af0",
   "metadata": {},
   "outputs": [
    {
     "name": "stdout",
     "output_type": "stream",
     "text": [
      "root\n",
      " |-- ID: string (nullable = true)\n",
      " |-- Name: string (nullable = true)\n",
      " |-- DOB: string (nullable = true)\n",
      " |-- VaccinationType: string (nullable = true)\n",
      " |-- VaccinationDate: string (nullable = true)\n",
      " |-- Free or Paid: string (nullable = true)\n",
      "\n"
     ]
    }
   ],
   "source": [
    "sdf_IND.printSchema()"
   ]
  },
  {
   "cell_type": "code",
   "execution_count": 20,
   "id": "e61a6dc0",
   "metadata": {},
   "outputs": [],
   "source": [
    "sdf_IND = sdf_IND.withColumn(\"CountryName\", lit(\"India\"))"
   ]
  },
  {
   "cell_type": "code",
   "execution_count": 21,
   "id": "ace16adf",
   "metadata": {},
   "outputs": [
    {
     "name": "stdout",
     "output_type": "stream",
     "text": [
      "root\n",
      " |-- ID: integer (nullable = true)\n",
      " |-- Name: string (nullable = true)\n",
      " |-- DOB: date (nullable = true)\n",
      " |-- VaccinationType: string (nullable = true)\n",
      " |-- VaccinationDate: date (nullable = true)\n",
      " |-- Free or Paid: string (nullable = true)\n",
      " |-- CountryName: string (nullable = false)\n",
      "\n"
     ]
    }
   ],
   "source": [
    "sdf_IND = sdf_IND.withColumn(\"ID\",col(\"ID\").cast(IntegerType())) \\\n",
    "          .withColumn(\"Name\",col(\"Name\").cast(StringType())) \\\n",
    "          .withColumn(\"DOB\",col(\"DOB\").cast(DateType())) \\\n",
    "          .withColumn(\"VaccinationType\",col(\"VaccinationType\").cast(StringType())) \\\n",
    "          .withColumn(\"VaccinationDate\",col(\"VaccinationDate\").cast(DateType())) \\\n",
    "          .withColumn(\"Free or Paid\",col(\"Free or Paid\").cast(StringType())) \\\n",
    "          .withColumn(\"CountryName\",col(\"CountryName\").cast(StringType()))\n",
    "\n",
    "sdf_IND.printSchema()"
   ]
  },
  {
   "cell_type": "code",
   "execution_count": 22,
   "id": "bbc394b7",
   "metadata": {},
   "outputs": [
    {
     "data": {
      "text/plain": [
       "3"
      ]
     },
     "execution_count": 22,
     "metadata": {},
     "output_type": "execute_result"
    }
   ],
   "source": [
    "sdf_IND.count()"
   ]
  },
  {
   "cell_type": "code",
   "execution_count": 23,
   "id": "0b8e6c26",
   "metadata": {},
   "outputs": [
    {
     "name": "stdout",
     "output_type": "stream",
     "text": [
      "+---+----+---+---------------+---------------+------------+-----------+\n",
      "| ID|Name|DOB|VaccinationType|VaccinationDate|Free or Paid|CountryName|\n",
      "+---+----+---+---------------+---------------+------------+-----------+\n",
      "|  0|   0|  0|              0|              0|           0|          0|\n",
      "+---+----+---+---------------+---------------+------------+-----------+\n",
      "\n"
     ]
    }
   ],
   "source": [
    "sdf_IND.select([count(when(col(c).isNull(), c)).alias(c) for c in sdf_IND.columns]).show()"
   ]
  },
  {
   "cell_type": "code",
   "execution_count": 24,
   "id": "cc7b5c1d",
   "metadata": {},
   "outputs": [
    {
     "name": "stdout",
     "output_type": "stream",
     "text": [
      "+---+------+----------+---------------+---------------+------------+-----------+\n",
      "| ID|  Name|       DOB|VaccinationType|VaccinationDate|Free or Paid|CountryName|\n",
      "+---+------+----------+---------------+---------------+------------+-----------+\n",
      "|  1| Vikas|1998-12-01|            XYZ|     2022-01-01|           F|      India|\n",
      "|  2| Rahul|1982-08-13|            ABC|     2022-03-05|           P|      India|\n",
      "|  3|Sameer|1952-08-13|            ABC|     2022-02-20|           F|      India|\n",
      "+---+------+----------+---------------+---------------+------------+-----------+\n",
      "\n"
     ]
    }
   ],
   "source": [
    "sdf_IND.show()"
   ]
  },
  {
   "cell_type": "code",
   "execution_count": 25,
   "id": "33f7967f",
   "metadata": {},
   "outputs": [],
   "source": [
    "## USA"
   ]
  },
  {
   "cell_type": "code",
   "execution_count": 26,
   "id": "5d00dfc3",
   "metadata": {},
   "outputs": [],
   "source": [
    "sdf_USA = sc.read.csv(\"USA.csv\", header=True)"
   ]
  },
  {
   "cell_type": "code",
   "execution_count": 27,
   "id": "38831e79",
   "metadata": {},
   "outputs": [
    {
     "data": {
      "text/plain": [
       "3"
      ]
     },
     "execution_count": 27,
     "metadata": {},
     "output_type": "execute_result"
    }
   ],
   "source": [
    "sdf_USA.count()"
   ]
  },
  {
   "cell_type": "code",
   "execution_count": 28,
   "id": "86a61ad6",
   "metadata": {},
   "outputs": [
    {
     "name": "stdout",
     "output_type": "stream",
     "text": [
      "root\n",
      " |-- ID: string (nullable = true)\n",
      " |-- Name: string (nullable = true)\n",
      " |-- VaccinationType: string (nullable = true)\n",
      " |-- VaccinationDate: string (nullable = true)\n",
      "\n"
     ]
    }
   ],
   "source": [
    "sdf_USA.printSchema()"
   ]
  },
  {
   "cell_type": "code",
   "execution_count": 29,
   "id": "7b310a1f",
   "metadata": {},
   "outputs": [
    {
     "name": "stdout",
     "output_type": "stream",
     "text": [
      "root\n",
      " |-- ID: string (nullable = true)\n",
      " |-- Name: string (nullable = true)\n",
      " |-- VaccinationType: string (nullable = true)\n",
      " |-- VaccinationDate: string (nullable = true)\n",
      " |-- CountryName: string (nullable = false)\n",
      "\n"
     ]
    }
   ],
   "source": [
    "sdf_USA = sdf_USA.withColumn(\"CountryName\", lit(\"USA\"))\n",
    "sdf_USA.printSchema()"
   ]
  },
  {
   "cell_type": "code",
   "execution_count": 30,
   "id": "227b7758",
   "metadata": {},
   "outputs": [
    {
     "name": "stdout",
     "output_type": "stream",
     "text": [
      "+---+----+---------------+---------------+-----------+\n",
      "| ID|Name|VaccinationType|VaccinationDate|CountryName|\n",
      "+---+----+---------------+---------------+-----------+\n",
      "|  1| Sam|            EFG|       06152022|        USA|\n",
      "|  2|John|            XYZ|       01052022|        USA|\n",
      "|  3|Mike|            ABC|       12282021|        USA|\n",
      "+---+----+---------------+---------------+-----------+\n",
      "\n"
     ]
    }
   ],
   "source": [
    "sdf_USA.show()"
   ]
  },
  {
   "cell_type": "code",
   "execution_count": 31,
   "id": "37f4b2cc",
   "metadata": {},
   "outputs": [
    {
     "name": "stdout",
     "output_type": "stream",
     "text": [
      "root\n",
      " |-- ID: integer (nullable = true)\n",
      " |-- Name: string (nullable = true)\n",
      " |-- VaccinationType: string (nullable = true)\n",
      " |-- VaccinationDate: date (nullable = true)\n",
      " |-- CountryName: string (nullable = false)\n",
      "\n"
     ]
    }
   ],
   "source": [
    "sdf_USA = sdf_USA.withColumn(\"ID\",col(\"ID\").cast(IntegerType())) \\\n",
    "         .withColumn(\"Name\",col(\"Name\").cast(StringType())) \\\n",
    "         .withColumn(\"VaccinationType\",col(\"VaccinationType\").cast(StringType())) \\\n",
    "         .withColumn(\"VaccinationDate\", functions.to_date(functions.col(\"VaccinationDate\").cast(\"String\"), \\\n",
    "                     'MMddyyyy')) \\\n",
    "        .withColumn(\"CountryName\",col(\"CountryName\").cast(StringType()))\n",
    "sdf_USA.printSchema()"
   ]
  },
  {
   "cell_type": "code",
   "execution_count": 32,
   "id": "b2a89525",
   "metadata": {},
   "outputs": [
    {
     "name": "stdout",
     "output_type": "stream",
     "text": [
      "+---+----+---------------+---------------+-----------+\n",
      "| ID|Name|VaccinationType|VaccinationDate|CountryName|\n",
      "+---+----+---------------+---------------+-----------+\n",
      "|  1| Sam|            EFG|     2022-06-15|        USA|\n",
      "|  2|John|            XYZ|     2022-01-05|        USA|\n",
      "|  3|Mike|            ABC|     2021-12-28|        USA|\n",
      "+---+----+---------------+---------------+-----------+\n",
      "\n"
     ]
    }
   ],
   "source": [
    "sdf_USA.show()"
   ]
  },
  {
   "cell_type": "code",
   "execution_count": 33,
   "id": "eaff71cd",
   "metadata": {},
   "outputs": [],
   "source": [
    "sdf_AUS_IND = (sdf_AUS.unionByName(sdf_IND, allowMissingColumns=True)) #merge AUS and IND dataframes"
   ]
  },
  {
   "cell_type": "code",
   "execution_count": 34,
   "id": "c0d56b43",
   "metadata": {},
   "outputs": [
    {
     "name": "stdout",
     "output_type": "stream",
     "text": [
      "+---+---------+---------------+----------+---------------+-----------+------------+\n",
      "| ID|     Name|VaccinationType|       DOB|VaccinationDate|CountryName|Free or Paid|\n",
      "+---+---------+---------------+----------+---------------+-----------+------------+\n",
      "|  1|     Mike|            LMN|      null|     2022-05-11|  Australia|        null|\n",
      "|  2|Jonnathan|            XYZ|1997-12-13|     2021-12-13|  Australia|        null|\n",
      "|  3| Cristina|            ABC|1998-03-12|     2022-03-12|  Australia|        null|\n",
      "|  1|    Vikas|            XYZ|1998-12-01|     2022-01-01|      India|           F|\n",
      "|  2|    Rahul|            ABC|1982-08-13|     2022-03-05|      India|           P|\n",
      "|  3|   Sameer|            ABC|1952-08-13|     2022-02-20|      India|           F|\n",
      "+---+---------+---------------+----------+---------------+-----------+------------+\n",
      "\n"
     ]
    }
   ],
   "source": [
    "sdf_AUS_IND.show()"
   ]
  },
  {
   "cell_type": "code",
   "execution_count": 35,
   "id": "f8886e57",
   "metadata": {},
   "outputs": [],
   "source": [
    "sdf_SSOT = (sdf_AUS_IND.unionByName(sdf_USA, allowMissingColumns=True)) #merge USA dataframe"
   ]
  },
  {
   "cell_type": "code",
   "execution_count": 36,
   "id": "2cff3aa5",
   "metadata": {},
   "outputs": [
    {
     "name": "stdout",
     "output_type": "stream",
     "text": [
      "+---+---------+---------------+----------+---------------+-----------+------------+\n",
      "| ID|     Name|VaccinationType|       DOB|VaccinationDate|CountryName|Free or Paid|\n",
      "+---+---------+---------------+----------+---------------+-----------+------------+\n",
      "|  1|     Mike|            LMN|      null|     2022-05-11|  Australia|        null|\n",
      "|  2|Jonnathan|            XYZ|1997-12-13|     2021-12-13|  Australia|        null|\n",
      "|  3| Cristina|            ABC|1998-03-12|     2022-03-12|  Australia|        null|\n",
      "|  1|    Vikas|            XYZ|1998-12-01|     2022-01-01|      India|           F|\n",
      "|  2|    Rahul|            ABC|1982-08-13|     2022-03-05|      India|           P|\n",
      "|  3|   Sameer|            ABC|1952-08-13|     2022-02-20|      India|           F|\n",
      "|  1|      Sam|            EFG|      null|     2022-06-15|        USA|        null|\n",
      "|  2|     John|            XYZ|      null|     2022-01-05|        USA|        null|\n",
      "|  3|     Mike|            ABC|      null|     2021-12-28|        USA|        null|\n",
      "+---+---------+---------------+----------+---------------+-----------+------------+\n",
      "\n"
     ]
    }
   ],
   "source": [
    "sdf_SSOT.show() #SSOT(Single Source of Truth)"
   ]
  },
  {
   "cell_type": "code",
   "execution_count": 37,
   "id": "c26c8d97",
   "metadata": {},
   "outputs": [
    {
     "name": "stdout",
     "output_type": "stream",
     "text": [
      "root\n",
      " |-- ID: integer (nullable = true)\n",
      " |-- Name: string (nullable = true)\n",
      " |-- VaccinationType: string (nullable = true)\n",
      " |-- DOB: date (nullable = true)\n",
      " |-- VaccinationDate: date (nullable = true)\n",
      " |-- CountryName: string (nullable = false)\n",
      " |-- Free or Paid: string (nullable = true)\n",
      "\n"
     ]
    }
   ],
   "source": [
    "sdf_SSOT.printSchema()"
   ]
  },
  {
   "cell_type": "code",
   "execution_count": 38,
   "id": "04545abf",
   "metadata": {
    "scrolled": true
   },
   "outputs": [],
   "source": [
    "sdf_SSOT.createOrReplaceTempView(\"SSOT\")"
   ]
  },
  {
   "cell_type": "code",
   "execution_count": 39,
   "id": "fc7ffe49",
   "metadata": {},
   "outputs": [],
   "source": [
    "##Metric1"
   ]
  },
  {
   "cell_type": "code",
   "execution_count": 40,
   "id": "b1ea96f6",
   "metadata": {},
   "outputs": [],
   "source": [
    "metric1 = spark.sql(\"SELECT CountryName, VaccinationType, count(*) as NumberOfVaccinations from SSOT group by CountryName,VaccinationType\")"
   ]
  },
  {
   "cell_type": "code",
   "execution_count": 41,
   "id": "3b303cc9",
   "metadata": {},
   "outputs": [
    {
     "name": "stdout",
     "output_type": "stream",
     "text": [
      "+-----------+---------------+--------------------+\n",
      "|CountryName|VaccinationType|NumberOfVaccinations|\n",
      "+-----------+---------------+--------------------+\n",
      "|  Australia|            LMN|                   1|\n",
      "|  Australia|            XYZ|                   1|\n",
      "|  Australia|            ABC|                   1|\n",
      "|      India|            ABC|                   2|\n",
      "|      India|            XYZ|                   1|\n",
      "|        USA|            XYZ|                   1|\n",
      "|        USA|            EFG|                   1|\n",
      "|        USA|            ABC|                   1|\n",
      "+-----------+---------------+--------------------+\n",
      "\n"
     ]
    }
   ],
   "source": [
    "metric1.show() # metric 1 final output"
   ]
  },
  {
   "cell_type": "code",
   "execution_count": 42,
   "id": "7be7749f",
   "metadata": {},
   "outputs": [],
   "source": [
    "##Metric2"
   ]
  },
  {
   "cell_type": "code",
   "execution_count": 43,
   "id": "d06318bb",
   "metadata": {},
   "outputs": [],
   "source": [
    "metric2 = spark.sql(\"SELECT CountryName, count(*) as NumberOfVaccinations from SSOT group by CountryName\")"
   ]
  },
  {
   "cell_type": "code",
   "execution_count": 44,
   "id": "271c090a",
   "metadata": {},
   "outputs": [
    {
     "name": "stdout",
     "output_type": "stream",
     "text": [
      "+-----------+--------------------+\n",
      "|CountryName|NumberOfVaccinations|\n",
      "+-----------+--------------------+\n",
      "|  Australia|                   3|\n",
      "|      India|                   3|\n",
      "|        USA|                   3|\n",
      "+-----------+--------------------+\n",
      "\n"
     ]
    }
   ],
   "source": [
    "metric2.show()"
   ]
  },
  {
   "cell_type": "code",
   "execution_count": 45,
   "id": "7bf03347",
   "metadata": {},
   "outputs": [],
   "source": [
    "metric2=metric2.withColumn(\"TotalPopulation\", \\\n",
    "      when((metric2.CountryName == \"Australia\"), lit(6)) \\\n",
    "     .when((metric2.CountryName == \"India\"), lit(10)) \\\n",
    "     .when((metric2.CountryName == \"USA\"), lit(8)) \\\n",
    "  )\n",
    "\n",
    "# assumed population of countries\n",
    "#total_population_AUS = 6\n",
    "#total_population_IND = 10\n",
    "#total_population_USA = 8"
   ]
  },
  {
   "cell_type": "code",
   "execution_count": 46,
   "id": "e027ce59",
   "metadata": {},
   "outputs": [
    {
     "name": "stdout",
     "output_type": "stream",
     "text": [
      "+-----------+--------------------+---------------+\n",
      "|CountryName|NumberOfVaccinations|TotalPopulation|\n",
      "+-----------+--------------------+---------------+\n",
      "|  Australia|                   3|              6|\n",
      "|      India|                   3|             10|\n",
      "|        USA|                   3|              8|\n",
      "+-----------+--------------------+---------------+\n",
      "\n"
     ]
    }
   ],
   "source": [
    "metric2.show()"
   ]
  },
  {
   "cell_type": "code",
   "execution_count": 47,
   "id": "b023ed3e",
   "metadata": {},
   "outputs": [],
   "source": [
    "metric2.createOrReplaceTempView(\"temp_metric2\")"
   ]
  },
  {
   "cell_type": "code",
   "execution_count": 48,
   "id": "aed7b68e",
   "metadata": {},
   "outputs": [],
   "source": [
    "metric2=spark.sql(\"select CountryName, ((NumberOfVaccinations/TotalPopulation)*100) as PercentageVaccinated from temp_metric2\")"
   ]
  },
  {
   "cell_type": "code",
   "execution_count": 49,
   "id": "c9bd8d69",
   "metadata": {},
   "outputs": [
    {
     "name": "stdout",
     "output_type": "stream",
     "text": [
      "+-----------+--------------------+\n",
      "|CountryName|PercentageVaccinated|\n",
      "+-----------+--------------------+\n",
      "|  Australia|                50.0|\n",
      "|      India|                30.0|\n",
      "|        USA|                37.5|\n",
      "+-----------+--------------------+\n",
      "\n"
     ]
    }
   ],
   "source": [
    "metric2.show() # metric2 final output"
   ]
  },
  {
   "cell_type": "code",
   "execution_count": 50,
   "id": "66be98a2",
   "metadata": {},
   "outputs": [],
   "source": [
    "##Metric3\n",
    "\n",
    "metric3 = spark.sql(\"SELECT CountryName, (count(CountryName)/(SELECT count(CountryName) from SSOT))*100 as PrecentageContribution from SSOT group by CountryName\")"
   ]
  },
  {
   "cell_type": "code",
   "execution_count": 51,
   "id": "1cd737f7",
   "metadata": {},
   "outputs": [
    {
     "name": "stdout",
     "output_type": "stream",
     "text": [
      "+-----------+----------------------+\n",
      "|CountryName|PrecentageContribution|\n",
      "+-----------+----------------------+\n",
      "|  Australia|     33.33333333333333|\n",
      "|      India|     33.33333333333333|\n",
      "|        USA|     33.33333333333333|\n",
      "+-----------+----------------------+\n",
      "\n"
     ]
    }
   ],
   "source": [
    "metric3.show() # metric3 final output"
   ]
  },
  {
   "cell_type": "code",
   "execution_count": null,
   "id": "5dbc6c78",
   "metadata": {},
   "outputs": [],
   "source": []
  }
 ],
 "metadata": {
  "kernelspec": {
   "display_name": "Python 3 (ipykernel)",
   "language": "python",
   "name": "python3"
  },
  "language_info": {
   "codemirror_mode": {
    "name": "ipython",
    "version": 3
   },
   "file_extension": ".py",
   "mimetype": "text/x-python",
   "name": "python",
   "nbconvert_exporter": "python",
   "pygments_lexer": "ipython3",
   "version": "3.9.12"
  }
 },
 "nbformat": 4,
 "nbformat_minor": 5
}
